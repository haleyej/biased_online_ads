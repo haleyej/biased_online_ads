{
 "cells": [
  {
   "cell_type": "code",
   "execution_count": 1,
   "id": "156c8315",
   "metadata": {},
   "outputs": [],
   "source": [
    "import os\n",
    "import pandas as pd\n",
    "import numpy as np \n",
    "import matplotlib.pyplot as plt\n",
    "import re\n",
    "from ast import literal_eval\n",
    "import PIL\n",
    "import tensorflow as tf"
   ]
  },
  {
   "cell_type": "code",
   "execution_count": 2,
   "id": "3811c255",
   "metadata": {},
   "outputs": [],
   "source": [
    "user_look_up = pd.read_csv(\"user-summary.csv\")"
   ]
  },
  {
   "cell_type": "markdown",
   "id": "eb8b3ed0",
   "metadata": {},
   "source": [
    "Note to self: turn site look up table creation stuff into an automated process"
   ]
  },
  {
   "cell_type": "code",
   "execution_count": 3,
   "id": "68aa10db",
   "metadata": {},
   "outputs": [],
   "source": [
    "def create_site_look_up(user_id):\n",
    "    '''\n",
    "    Turns the commands file into a list of websites \n",
    "    that the simulated user visited and the asssociated\n",
    "    suffixes in the image file names\n",
    "    \n",
    "    Naming convention works wether you use the \n",
    "    screenshot parts or the full image that has \n",
    "    been stitched together from the parts\n",
    "    \n",
    "    ARGS:\n",
    "    user_id = used to identify the correct commands file \n",
    "    \n",
    "    NOTE TO SELF: \n",
    "    asssumes everyone has the same path to the commands file\n",
    "    come back to file paths \n",
    "    '''\n",
    "    commands = pd.read_csv(f\"users/{user_id}/screenshot_0/commands_u{user_id[5:]}_s0.tsv\", sep = \"\\t\", header = None, index_col = 0).reset_index(drop = True)\n",
    "    commands.columns = ['action', 'site']\n",
    "    commands['site'] = commands.site.apply(literal_eval)\n",
    "    \n",
    "    suffix_to_site = {}\n",
    "    for idx, _ in commands.groupby(commands.index // 2):\n",
    "        if commands.iloc[idx * 2]['action'] == 'GET' and commands.iloc[idx * 2 + 1]['action'] == 'FULL SCREENSHOT':\n",
    "            site = commands.iloc[idx * 2]['site']['url']\n",
    "            suffix = commands.iloc[idx * 2 + 1]['site']['suffix'][1:]\n",
    "            suffix_to_site[suffix] = site\n",
    "            \n",
    "    site_look_up = pd.DataFrame.from_dict(suffix_to_site, orient = 'index').reset_index()\n",
    "    site_look_up.columns = ['suffix', 'site']\n",
    "    \n",
    "    return site_look_up"
   ]
  },
  {
   "cell_type": "code",
   "execution_count": 4,
   "id": "4e548299",
   "metadata": {},
   "outputs": [],
   "source": [
    "site_look_up = create_site_look_up('user_1000')"
   ]
  },
  {
   "cell_type": "code",
   "execution_count": 5,
   "id": "6d17d3cf",
   "metadata": {},
   "outputs": [],
   "source": [
    "os.chdir(\"users\")"
   ]
  },
  {
   "cell_type": "code",
   "execution_count": 6,
   "id": "e8e3759c",
   "metadata": {},
   "outputs": [],
   "source": [
    "class ImageData():\n",
    "    def __init__(self, user_id, fname, grayscale = True, user_look_up = user_look_up, site_look_up = site_look_up):\n",
    "        '''\n",
    "        Class for screenshot data\n",
    "        Mostly a convenience thing\n",
    "        \n",
    "        ARGS: \n",
    "        user_id = in the format 'user-####' (there can be any number of digits)\n",
    "        fname = image file name\n",
    "        grayscale = boolean value for wether the image should grayscale or RGB\n",
    "        user_look_up = Pandas dataframe that associates user id's with the \n",
    "                       simulated user's protected class\n",
    "        site_look_up = Panndas dataframe that associates the suffix used in the \n",
    "                       image filename (fname) with the website that was visited\n",
    "                       \n",
    "        NOTE TO SELF:\n",
    "        Check up on file name stuff\n",
    "        \n",
    "        may want to modify so that you can change back and forth between \n",
    "        RGB and grayscale? revisit this \n",
    "        '''\n",
    "        #metadata \n",
    "        self.user = user_id \n",
    "        self.path = os.path.join(user_id, \"screenshot_0/data/screenshots/parts\", fname)\n",
    "        self.grayscale = grayscale\n",
    "        \n",
    "        #load in image\n",
    "        if self.grayscale: \n",
    "            self.img = np.asarray(PIL.Image.open(self.path).convert('L'))\n",
    "            self.show = PIL.ImageOps.grayscale(PIL.Image.open(self.path))\n",
    "        elif not self.grayscale:\n",
    "            self.img = np.asarray(PIL.Image.open(self.path))\n",
    "            self.show = PIL.Image.open(self.path)\n",
    "            \n",
    "        self.shape = self.img.shape\n",
    "        \n",
    "        #metadata from look up tables\n",
    "        self.user_class = user_look_up[user_look_up.user_id == int(user_id[5:])]['group'].values[0]\n",
    "        self.site = site_look_up[site_look_up.suffix == re.findall(\"-_(\\d{1,2})-part\", fname)[0]]['site'].values[0]\n",
    "        \n",
    "\n",
    "    def resize(self, w, h):\n",
    "        '''\n",
    "        Resizes the image\n",
    "        Mutates objects .show, .img & .shape attributes\n",
    "        Returns None\n",
    "        \n",
    "        ARGS:\n",
    "        w = width of the image's new shape\n",
    "        h = height of the image's new shape\n",
    "        \n",
    "        Note that upsampling works — the \n",
    "        reshaped image can have larger dimensions \n",
    "        than the original \n",
    "        \n",
    "        NOTE TO SELF:\n",
    "        Doesn't work for non RGB images! fix this!\n",
    "        '''\n",
    "        self.show = self.show.resize((w, h))\n",
    "        self.img = np.array(self.show) \n",
    "        self.shape = self.img.shape\n",
    "        "
   ]
  },
  {
   "cell_type": "code",
   "execution_count": 7,
   "id": "b8378a26",
   "metadata": {},
   "outputs": [],
   "source": [
    "user_id = 'user_1000'\n",
    "fname = '283131688007233-f8efc08be8aa3e9c2fe11cbeec2e03f6-_36-part-1-815.png'"
   ]
  },
  {
   "cell_type": "code",
   "execution_count": 8,
   "id": "aa50da45",
   "metadata": {},
   "outputs": [],
   "source": [
    "test = ImageData(user_id, fname, grayscale = True)"
   ]
  },
  {
   "cell_type": "code",
   "execution_count": 144,
   "id": "c7c6e1cd",
   "metadata": {},
   "outputs": [
    {
     "data": {
      "text/plain": [
       "'[[ 37  37  37 ... 243 243 243]\\n [ 37  37  37 ... 243 243 243]\\n [ 37  37  37 ... 243 243 243]\\n ...\\n [255 255 255 ... 243 243 243]\\n [255 255 255 ... 243 243 243]\\n [255 255 255 ... 243 243 243]]'"
      ]
     },
     "execution_count": 144,
     "metadata": {},
     "output_type": "execute_result"
    }
   ],
   "source": [
    "str(test.img)"
   ]
  },
  {
   "cell_type": "code",
   "execution_count": 117,
   "id": "3d892522",
   "metadata": {},
   "outputs": [],
   "source": [
    "test.resize(683, 1366)"
   ]
  },
  {
   "cell_type": "code",
   "execution_count": 119,
   "id": "803f0f90",
   "metadata": {},
   "outputs": [
    {
     "data": {
      "text/plain": [
       "(1366, 683)"
      ]
     },
     "execution_count": 119,
     "metadata": {},
     "output_type": "execute_result"
    }
   ],
   "source": [
    "test.shape"
   ]
  },
  {
   "cell_type": "code",
   "execution_count": 127,
   "id": "20541387",
   "metadata": {},
   "outputs": [],
   "source": [
    "test2 = ImageData(user_id, fname, grayscale = False)"
   ]
  },
  {
   "cell_type": "code",
   "execution_count": 129,
   "id": "0789f0af",
   "metadata": {},
   "outputs": [
    {
     "data": {
      "text/plain": [
       "array([[[  0,  36, 139, 255],\n",
       "        [  0,  36, 139, 255],\n",
       "        [  0,  36, 139, 255],\n",
       "        ...,\n",
       "        [243, 243, 243, 255],\n",
       "        [243, 243, 243, 255],\n",
       "        [243, 243, 243, 255]],\n",
       "\n",
       "       [[  0,  36, 139, 255],\n",
       "        [  0,  36, 139, 255],\n",
       "        [  0,  36, 139, 255],\n",
       "        ...,\n",
       "        [243, 243, 243, 255],\n",
       "        [243, 243, 243, 255],\n",
       "        [243, 243, 243, 255]],\n",
       "\n",
       "       [[  0,  36, 139, 255],\n",
       "        [  0,  36, 139, 255],\n",
       "        [  0,  36, 139, 255],\n",
       "        ...,\n",
       "        [243, 243, 243, 255],\n",
       "        [243, 243, 243, 255],\n",
       "        [243, 243, 243, 255]],\n",
       "\n",
       "       ...,\n",
       "\n",
       "       [[255, 255, 255, 255],\n",
       "        [255, 255, 255, 255],\n",
       "        [255, 255, 255, 255],\n",
       "        ...,\n",
       "        [243, 243, 243, 255],\n",
       "        [243, 243, 243, 255],\n",
       "        [243, 243, 243, 255]],\n",
       "\n",
       "       [[255, 255, 255, 255],\n",
       "        [255, 255, 255, 255],\n",
       "        [255, 255, 255, 255],\n",
       "        ...,\n",
       "        [243, 243, 243, 255],\n",
       "        [243, 243, 243, 255],\n",
       "        [243, 243, 243, 255]],\n",
       "\n",
       "       [[255, 255, 255, 255],\n",
       "        [255, 255, 255, 255],\n",
       "        [255, 255, 255, 255],\n",
       "        ...,\n",
       "        [243, 243, 243, 255],\n",
       "        [243, 243, 243, 255],\n",
       "        [243, 243, 243, 255]]], dtype=uint8)"
      ]
     },
     "execution_count": 129,
     "metadata": {},
     "output_type": "execute_result"
    }
   ],
   "source": [
    "test2.img"
   ]
  },
  {
   "cell_type": "code",
   "execution_count": 36,
   "id": "73e14d23",
   "metadata": {},
   "outputs": [
    {
     "data": {
      "text/plain": [
       "(642, 1366, 4)"
      ]
     },
     "execution_count": 36,
     "metadata": {},
     "output_type": "execute_result"
    }
   ],
   "source": [
    "test.img.shape"
   ]
  },
  {
   "cell_type": "code",
   "execution_count": 78,
   "id": "40dd556e",
   "metadata": {},
   "outputs": [
    {
     "data": {
      "text/plain": [
       "(1000, 7, 4)"
      ]
     },
     "execution_count": 78,
     "metadata": {},
     "output_type": "execute_result"
    }
   ],
   "source": [
    "np.array(test.show.resize((7, 1000))).shape"
   ]
  },
  {
   "cell_type": "code",
   "execution_count": null,
   "id": "8a95cb05",
   "metadata": {},
   "outputs": [],
   "source": []
  },
  {
   "cell_type": "code",
   "execution_count": null,
   "id": "cc34970d",
   "metadata": {},
   "outputs": [],
   "source": [
    "# not all images are the same size"
   ]
  },
  {
   "cell_type": "code",
   "execution_count": 29,
   "id": "ee70af4e",
   "metadata": {},
   "outputs": [],
   "source": [
    "files = os.listdir(\"user_1000/screenshot_0/data/screenshots/parts\")\n",
    "imgs = []\n",
    "for f in files: \n",
    "    if f.endswith('png'):\n",
    "        imgs.append(ImageData('user_1000', f))"
   ]
  },
  {
   "cell_type": "code",
   "execution_count": 30,
   "id": "5cd5d439",
   "metadata": {},
   "outputs": [],
   "source": [
    "lens = [i.img.shape for i in imgs]"
   ]
  },
  {
   "cell_type": "code",
   "execution_count": 31,
   "id": "ae0b2fe1",
   "metadata": {},
   "outputs": [
    {
     "data": {
      "text/plain": [
       "(642, 1366)    210\n",
       "(683, 1366)    202\n",
       "dtype: int64"
      ]
     },
     "execution_count": 31,
     "metadata": {},
     "output_type": "execute_result"
    }
   ],
   "source": [
    "pd.Series(lens).value_counts()"
   ]
  },
  {
   "cell_type": "code",
   "execution_count": 32,
   "id": "a9263852",
   "metadata": {},
   "outputs": [
    {
     "data": {
      "text/plain": [
       "array([[228, 228, 228, ..., 228, 228, 228],\n",
       "       [228, 228, 228, ..., 228, 228, 228],\n",
       "       [228, 228, 228, ..., 228, 228, 228],\n",
       "       ...,\n",
       "       [228, 228, 228, ..., 228, 228, 228],\n",
       "       [228, 228, 228, ..., 228, 228, 228],\n",
       "       [228, 228, 228, ..., 228, 228, 228]], dtype=uint8)"
      ]
     },
     "execution_count": 32,
     "metadata": {},
     "output_type": "execute_result"
    }
   ],
   "source": [
    "imgs[0].img"
   ]
  },
  {
   "cell_type": "code",
   "execution_count": null,
   "id": "50f4c542",
   "metadata": {},
   "outputs": [],
   "source": []
  }
 ],
 "metadata": {
  "kernelspec": {
   "display_name": "Python 3 (ipykernel)",
   "language": "python",
   "name": "python3"
  },
  "language_info": {
   "codemirror_mode": {
    "name": "ipython",
    "version": 3
   },
   "file_extension": ".py",
   "mimetype": "text/x-python",
   "name": "python",
   "nbconvert_exporter": "python",
   "pygments_lexer": "ipython3",
   "version": "3.8.15"
  }
 },
 "nbformat": 4,
 "nbformat_minor": 5
}
