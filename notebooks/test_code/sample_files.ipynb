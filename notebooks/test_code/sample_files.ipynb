{
 "cells": [
  {
   "cell_type": "code",
   "execution_count": 1,
   "id": "238810a1",
   "metadata": {},
   "outputs": [],
   "source": [
    "import os\n",
    "import pandas as pd\n",
    "import numpy as np \n",
    "import regex as re\n",
    "from collections import defaultdict"
   ]
  },
  {
   "cell_type": "code",
   "execution_count": 2,
   "id": "97dbee0e",
   "metadata": {},
   "outputs": [],
   "source": [
    "user_summary = pd.read_csv(\"../../files/user-summary.csv\")"
   ]
  },
  {
   "cell_type": "code",
   "execution_count": 3,
   "id": "7fb3d98b",
   "metadata": {},
   "outputs": [],
   "source": [
    "sites = pd.read_csv(\"../../files/sites.csv\")"
   ]
  },
  {
   "cell_type": "markdown",
   "id": "086ed072",
   "metadata": {},
   "source": [
    "ADD STUFF TO GET RID OF THE USERS WE DON'T HAVE DATA FOR"
   ]
  },
  {
   "cell_type": "code",
   "execution_count": 4,
   "id": "24347ca9",
   "metadata": {},
   "outputs": [],
   "source": [
    "def block_randomization(user_summary, sites, n):\n",
    "    '''\n",
    "    Combined user look up table with \n",
    "    sites table to get all possible\n",
    "    combinations of group/site pairs\n",
    "    \n",
    "    Performs block randomization on \n",
    "    group/site combos, to get n examples\n",
    "    from each \n",
    "    \n",
    "    Returns a dataframe with the info\n",
    "    about the sampled simulated\n",
    "    users\n",
    "    \n",
    "    ARGS:\n",
    "    user_summary = user-summary.csv in \n",
    "                   dataframe form \n",
    "    \n",
    "    sites = .csv file created by the \n",
    "            output of the\n",
    "            create_site_look_up()\n",
    "            function \n",
    "    \n",
    "    n = number of examples to sample from \n",
    "        each group/site combo\n",
    "    '''\n",
    "    users_df = user_summary.copy()\n",
    "    users_df.user_id = users_df.user_id.apply(lambda s: f'user_{s}')\n",
    "    users_df['key'] = 1\n",
    "    users_df = users_df[['user_id', 'group', 'key']].values\n",
    "    users_df = pd.DataFrame(users_df)\n",
    "    users_df.columns = ['user', 'group', 'key']\n",
    "    \n",
    "    sites['key'] = 1\n",
    "    \n",
    "    all_sites = users_df.merge(sites, on = 'key', how = 'outer')\n",
    "    \n",
    "    sample_df = all_sites.groupby(['suffix', 'group']).sample(n, random_state = 42)\n",
    "    \n",
    "    return sample_df\n",
    "    "
   ]
  },
  {
   "cell_type": "code",
   "execution_count": 5,
   "id": "7f2c494c",
   "metadata": {},
   "outputs": [],
   "source": [
    "t = block_randomization(user_summary, sites, 4)"
   ]
  }
 ],
 "metadata": {
  "kernelspec": {
   "display_name": "Python 3 (ipykernel)",
   "language": "python",
   "name": "python3"
  },
  "language_info": {
   "codemirror_mode": {
    "name": "ipython",
    "version": 3
   },
   "file_extension": ".py",
   "mimetype": "text/x-python",
   "name": "python",
   "nbconvert_exporter": "python",
   "pygments_lexer": "ipython3",
   "version": "3.9.13"
  }
 },
 "nbformat": 4,
 "nbformat_minor": 5
}
