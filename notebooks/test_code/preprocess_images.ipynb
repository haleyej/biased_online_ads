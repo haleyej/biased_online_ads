{
 "cells": [
  {
   "cell_type": "code",
   "execution_count": null,
   "id": "156c8315",
   "metadata": {},
   "outputs": [],
   "source": [
    "import os\n",
    "import pandas as pd\n",
    "import numpy as np \n",
    "import re\n",
    "from ast import literal_eval\n",
    "import cv2"
   ]
  },
  {
   "cell_type": "markdown",
   "id": "a870e043-0741-496c-b9bb-78dd583bd067",
   "metadata": {},
   "source": [
    "<a href = \"https://towardsdatascience.com/exploring-image-processing-techniques-opencv-4860006a243\">good primer on CV2</a>"
   ]
  },
  {
   "cell_type": "code",
   "execution_count": null,
   "id": "3811c255",
   "metadata": {},
   "outputs": [],
   "source": [
    "user_look_up = pd.read_csv(\"../../files/user-summary.csv\")"
   ]
  },
  {
   "cell_type": "markdown",
   "id": "eb8b3ed0",
   "metadata": {},
   "source": [
    "Note to self: turn site look up table creation stuff into an automated process"
   ]
  },
  {
   "cell_type": "code",
   "execution_count": null,
   "id": "68aa10db",
   "metadata": {},
   "outputs": [],
   "source": [
    "def create_site_look_up(user_id):\n",
    "    '''\n",
    "    Turns the commands file into a list of websites \n",
    "    that the simulated user visited and the asssociated\n",
    "    suffixes in the image file names\n",
    "    \n",
    "    Naming convention works wether you use the \n",
    "    screenshot parts or the full image that has \n",
    "    been stitched together from the parts\n",
    "    \n",
    "    ARGS:\n",
    "    user_id = used to identify the correct commands file \n",
    "    \n",
    "    NOTE TO SELF: \n",
    "    asssumes everyone has the same path to the commands file\n",
    "    come back to file paths \n",
    "    \n",
    "    hypothetically this only needs to be run once, \n",
    "    since all users should have the same file structure\n",
    "    '''\n",
    "    commands = pd.read_csv(f\"users/{user_id}/screenshot_0/commands_u{user_id[5:]}_s0.tsv\", sep = \"\\t\", header = None, index_col = 0).reset_index(drop = True)\n",
    "    commands.columns = ['action', 'site']\n",
    "    commands['site'] = commands.site.apply(literal_eval)\n",
    "    \n",
    "    suffix_to_site = {}\n",
    "    for idx, _ in commands.groupby(commands.index // 2):\n",
    "        if commands.iloc[idx * 2]['action'] == 'GET' and commands.iloc[idx * 2 + 1]['action'] == 'FULL SCREENSHOT':\n",
    "            site = commands.iloc[idx * 2]['site']['url']\n",
    "            suffix = commands.iloc[idx * 2 + 1]['site']['suffix'][1:]\n",
    "            suffix_to_site[suffix] = site\n",
    "            \n",
    "    site_look_up = pd.DataFrame.from_dict(suffix_to_site, orient = 'index').reset_index()\n",
    "    site_look_up.columns = ['suffix', 'site']\n",
    "    \n",
    "    return site_look_up"
   ]
  },
  {
   "cell_type": "code",
   "execution_count": null,
   "id": "4e548299",
   "metadata": {},
   "outputs": [],
   "source": [
    "site_look_up = create_site_look_up('user_1000')"
   ]
  },
  {
   "cell_type": "code",
   "execution_count": null,
   "id": "e8889d12-ca2d-4ee0-b414-3049c0194678",
   "metadata": {},
   "outputs": [],
   "source": [
    "site_look_up = pd.read_csv(\"../../files/sites.csv\")"
   ]
  },
  {
   "cell_type": "code",
   "execution_count": null,
   "id": "e8e3759c",
   "metadata": {},
   "outputs": [],
   "source": [
    "class ImageData():\n",
    "    def __init__(self, fname, colorway = cv2.COLOR_BGR2HLS, path = '', user_look_up = user_look_up, site_look_up = site_look_up):\n",
    "        '''\n",
    "        Class for screenshot data\n",
    "        Mostly a convenience thing\n",
    "        \n",
    "        ARGS: \n",
    "        user_id = in the format 'user-####' (there can be any number of digits)\n",
    "        fname = image file name\n",
    "        path = optional, if images are in another directory than current\n",
    "        user_look_up = Pandas dataframe that associates user id's with the \n",
    "                       simulated user's protected class\n",
    "        site_look_up = Pandas dataframe that associates the suffix used in the \n",
    "                       image filename (fname) with the website that was visited\n",
    "                       \n",
    "        '''\n",
    "        self.user = fname.split(\"_\")[1]\n",
    "        self.img = cv2.cvtColor(cv2.imread(path + fname), colorway)\n",
    "        self.shape = self.img.shape\n",
    "        \n",
    "        self.user_class = user_look_up[user_look_up.user_id == int(fname.split(\"_\")[1])]['group'].values[0]\n",
    "        self.site = site_look_up[site_look_up.suffix == int(fname.split(\"_\")[-1][:-4])]['site'].values[0]\n",
    "        \n",
    "\n",
    "    def resize(self, w, h):\n",
    "        '''\n",
    "        Resizes the image\n",
    "        Returns None\n",
    "        \n",
    "        ARGS:\n",
    "        w = width of the image's new shape\n",
    "        h = height of the image's new shape\n",
    "        \n",
    "        '''\n",
    "        self.img = cv2.resize(self.img, (20, 20), interpolation = cv2.INTER_AREA)\n",
    "        self.shape = self.img.shape\n",
    "        "
   ]
  },
  {
   "cell_type": "code",
   "execution_count": null,
   "id": "aa50da45",
   "metadata": {},
   "outputs": [],
   "source": [
    "w = ImageData('user_703_12.png', path = '/Users/haleyjohnson/Desktop/sample_screenshots/')"
   ]
  },
  {
   "cell_type": "code",
   "execution_count": null,
   "id": "9a2dd549-0bf3-4eb9-96aa-88c2d681b849",
   "metadata": {},
   "outputs": [],
   "source": [
    "import matplotlib.pyplot as plt\n",
    "plt.imshow(w.img)"
   ]
  },
  {
   "cell_type": "code",
   "execution_count": null,
   "id": "967ee18b-597a-4d09-bd79-da8711dd12c5",
   "metadata": {},
   "outputs": [],
   "source": []
  }
 ],
 "metadata": {
  "kernelspec": {
   "display_name": "Python 3 (ipykernel)",
   "language": "python",
   "name": "python3"
  },
  "language_info": {
   "codemirror_mode": {
    "name": "ipython",
    "version": 3
   },
   "file_extension": ".py",
   "mimetype": "text/x-python",
   "name": "python",
   "nbconvert_exporter": "python",
   "pygments_lexer": "ipython3",
   "version": "3.9.13"
  }
 },
 "nbformat": 4,
 "nbformat_minor": 5
}
