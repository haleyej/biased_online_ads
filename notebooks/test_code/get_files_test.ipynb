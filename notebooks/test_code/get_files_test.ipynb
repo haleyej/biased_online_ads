{
 "cells": [
  {
   "cell_type": "code",
   "execution_count": 1,
   "id": "c125837f",
   "metadata": {},
   "outputs": [],
   "source": [
    "import shutil\n",
    "import os\n",
    "import pandas as pd\n",
    "import glob\n",
    "import random"
   ]
  },
  {
   "cell_type": "code",
   "execution_count": 8,
   "id": "f9ce771e",
   "metadata": {},
   "outputs": [],
   "source": [
    "samples = pd.read_csv(\"/Users/haleyjohnson/Desktop/biased_online_ads/files/sampled_users.csv\")"
   ]
  },
  {
   "cell_type": "code",
   "execution_count": 9,
   "id": "5d57019a",
   "metadata": {},
   "outputs": [],
   "source": [
    "big_path = '/Volumes/Sensitive Group Browsing/Sensitive Group Browsing/Screenshots/*.zip'\n",
    "files = glob.glob(big_path)"
   ]
  },
  {
   "cell_type": "code",
   "execution_count": 11,
   "id": "0b952cc6",
   "metadata": {},
   "outputs": [],
   "source": [
    "targets = {}\n",
    "for f in files: \n",
    "    zip_file = f.split(\"/\")[-1]\n",
    "    user = zip_file[:10]\n",
    "    if user[6] == '0':\n",
    "        user = user[:5] + user[6:10]\n",
    "    if user[7] == '0':\n",
    "        user = user[:5] + user[7:10]\n",
    "    if user in samples.user.values:\n",
    "        targets[user] = zip_file"
   ]
  },
  {
   "cell_type": "code",
   "execution_count": 12,
   "id": "42523457-e5aa-4452-a5ef-4f6291395f79",
   "metadata": {},
   "outputs": [],
   "source": [
    "l = list(targets.items())"
   ]
  },
  {
   "cell_type": "code",
   "execution_count": 13,
   "id": "86671ff1-945d-4f39-936a-28597c05e8fc",
   "metadata": {},
   "outputs": [],
   "source": [
    "extract_dir = '/Users/haleyjohnson/Desktop/samples'\n",
    "end_path = '/Users/haleyjohnson/Desktop/sample_screenshots'\n",
    "samples_path = '/Volumes/Sensitive Group Browsing/Sensitive Group Browsing/Screenshots'\n",
    "\n",
    "failed = []\n",
    "\n",
    "for target, file in l:\n",
    "    rows = samples[samples.user == target]\n",
    "    full_path = f'{samples_path}/{file}'\n",
    "    try:\n",
    "        shutil.unpack_archive(full_path, extract_dir = extract_dir)\n",
    "    except: \n",
    "        failed.append((target, \"opening\"))\n",
    "        continue\n",
    "    # get all examples from particular folder \n",
    "    for idx, vals in rows.iterrows():\n",
    "        site = str(vals['suffix'])\n",
    "        files = glob.glob(f'{extract_dir}/users/{target}/screenshot_0/data/screenshots/parts/*-_{site}-part*.png')\n",
    "        try:\n",
    "            file = random.choice(files)\n",
    "        except:\n",
    "            failed.append((target, 'site_match'))\n",
    "            continue\n",
    "        new_name = f'{target}_{site}.png'\n",
    "        os.rename(file, f\"{end_path}/{new_name}\")\n",
    "    # delete extra data when migration is done\n",
    "    shutil.rmtree(f\"{extract_dir}/users/{target}\")\n"
   ]
  },
  {
   "cell_type": "code",
   "execution_count": 17,
   "id": "f7a43555-9ab4-45b0-b992-9e12e4421c62",
   "metadata": {},
   "outputs": [],
   "source": [
    "failed_df = pd.DataFrame(failed, columns = ['user', 'cause'])"
   ]
  },
  {
   "cell_type": "code",
   "execution_count": 20,
   "id": "e7b47826-ecc6-47ae-a05c-4db3284143b7",
   "metadata": {},
   "outputs": [],
   "source": [
    "failed_df.to_csv(\"../../files/failed_to_sample.csv\")"
   ]
  }
 ],
 "metadata": {
  "kernelspec": {
   "display_name": "Python 3 (ipykernel)",
   "language": "python",
   "name": "python3"
  },
  "language_info": {
   "codemirror_mode": {
    "name": "ipython",
    "version": 3
   },
   "file_extension": ".py",
   "mimetype": "text/x-python",
   "name": "python",
   "nbconvert_exporter": "python",
   "pygments_lexer": "ipython3",
   "version": "3.9.13"
  }
 },
 "nbformat": 4,
 "nbformat_minor": 5
}
